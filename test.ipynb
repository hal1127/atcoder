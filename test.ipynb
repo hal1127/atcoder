{
 "cells": [
  {
   "cell_type": "code",
   "execution_count": 2,
   "metadata": {},
   "outputs": [
    {
     "name": "stdout",
     "output_type": "stream",
     "text": [
      "FizzBuzz\n",
      "Fizz\n",
      "Fuzz\n",
      "Fizz\n",
      "Fizz\n",
      "Fuzz\n",
      "Fizz\n",
      "FizzBuzz\n",
      "Fizz\n",
      "Fuzz\n",
      "Fizz\n",
      "Fizz\n",
      "Fuzz\n",
      "Fizz\n",
      "FizzBuzz\n",
      "Fizz\n",
      "Fuzz\n",
      "Fizz\n",
      "Fizz\n",
      "Fuzz\n",
      "Fizz\n",
      "FizzBuzz\n",
      "Fizz\n",
      "Fuzz\n",
      "Fizz\n",
      "Fizz\n",
      "Fuzz\n",
      "Fizz\n",
      "FizzBuzz\n",
      "Fizz\n",
      "Fuzz\n",
      "Fizz\n",
      "Fizz\n",
      "Fuzz\n",
      "Fizz\n",
      "FizzBuzz\n",
      "Fizz\n",
      "Fuzz\n",
      "Fizz\n",
      "Fizz\n",
      "Fuzz\n",
      "Fizz\n",
      "FizzBuzz\n",
      "Fizz\n",
      "Fuzz\n",
      "Fizz\n",
      "Fizz\n"
     ]
    }
   ],
   "source": [
    "for i in range(100):\n",
    "  if i % 15 == 0:\n",
    "    print(\"FizzBuzz\")\n",
    "  elif i % 3 == 0:\n",
    "    print(\"Fizz\")\n",
    "  elif i % 5 == 0:\n",
    "    print(\"Buzz\")"
   ]
  },
  {
   "cell_type": "code",
   "execution_count": 12,
   "metadata": {},
   "outputs": [
    {
     "data": {
      "image/png": "[encoded data removed]",
      "text/plain": [
       "<Figure size 720x360 with 2 Axes>"
      ]
     },
     "metadata": {
      "needs_background": "light"
     },
     "output_type": "display_data"
    }
   ],
   "source": [
    "import matplotlib.pyplot as plt\n",
    "import numpy as np\n",
    "\n",
    "X1 = np.arange(6, dtype=np.uint64)\n",
    "Y11 = X1**2\n",
    "Y12 = np.power(2, X1)\n",
    "fig, ax = plt.subplots(1, 2, figsize=(10, 5))\n",
    "ax[0].plot(X1, Y11, label=\"$x^2$\")\n",
    "ax[0].plot(X1, Y12, label=\"$2^x$\")\n",
    "ax[0].grid(\":\")\n",
    "ax[0].legend()\n",
    "\n",
    "X2 = np.arange(4, 11, dtype=np.uint64)\n",
    "Y21 = X2**2\n",
    "Y22 = np.power(2, X2)\n",
    "ax[1].plot(X2, Y21, label=\"$x^2$\")\n",
    "ax[1].plot(X2, Y22, label=\"$2^x$\")\n",
    "ax[1].grid(\":\")\n",
    "ax[1].legend()\n",
    "fig.show()"
   ]
  },
  {
   "cell_type": "code",
   "execution_count": 34,
   "metadata": {},
   "outputs": [
    {
     "data": {
      "text/plain": [
       "array([ 1,  2,  3,  4,  5,  6,  7,  8,  9, 10, 11, 12, 13, 14, 15, 16, 17,\n",
       "       18, 19, 20, 21, 22, 23, 24, 25, 26, 27, 28, 29, 30, 31, 32, 33, 34,\n",
       "       35, 36, 37, 38, 39, 40, 41, 42, 43, 44, 45, 46, 47, 48, 49, 50, 51,\n",
       "       52, 53, 54, 55, 56, 57, 58, 59, 60, 61, 62, 63, 64, 65, 66, 67, 68,\n",
       "       69, 70, 71, 72, 73, 74, 75, 76, 77, 78, 79, 80, 81, 82, 83, 84, 85,\n",
       "       86, 87, 88, 89, 90])"
      ]
     },
     "execution_count": 34,
     "metadata": {},
     "output_type": "execute_result"
    }
   ],
   "source": [
    "import numpy as np\n",
    "\n",
    "np.arange(10, 100) - 9"
   ]
  },
  {
   "cell_type": "code",
   "execution_count": 12,
   "metadata": {},
   "outputs": [
    {
     "name": "stdout",
     "output_type": "stream",
     "text": [
      "1\n",
      "11\n",
      "3\n",
      "111\n",
      "7\n",
      "1111\n",
      "15\n",
      "11111\n",
      "31\n",
      "111111\n",
      "63\n",
      "1111111\n",
      "127\n",
      "11111111\n",
      "255\n",
      "111111111\n",
      "511\n",
      "1111111111\n",
      "1023\n",
      "11111111111\n",
      "2047\n",
      "111111111111\n",
      "4095\n",
      "1111111111111\n",
      "8191\n",
      "11111111111111\n",
      "16383\n",
      "111111111111111\n",
      "32767\n",
      "1111111111111111\n",
      "65535\n",
      "11111111111111111\n",
      "131071\n",
      "111111111111111111\n",
      "262143\n",
      "1111111111111111111\n",
      "524287\n",
      "11111111111111111111\n",
      "1048575\n",
      "111111111111111111111\n",
      "2097151\n",
      "1111111111111111111111\n",
      "4194303\n",
      "11111111111111111111111\n",
      "8388607\n",
      "111111111111111111111111\n",
      "16777215\n",
      "1111111111111111111111111\n",
      "33554431\n",
      "11111111111111111111111111\n",
      "67108863\n",
      "111111111111111111111111111\n",
      "134217727\n",
      "1111111111111111111111111111\n",
      "268435455\n",
      "11111111111111111111111111111\n",
      "536870911\n",
      "111111111111111111111111111111\n",
      "1073741823\n",
      "1111111111111111111111111111111\n",
      "2147483647\n",
      "11111111111111111111111111111111\n",
      "4294967295\n"
     ]
    }
   ],
   "source": [
    "b = 1\n",
    "print(bin(b)[2:])\n",
    "\n",
    "for i in range(31):\n",
    "  b = b << 1\n",
    "  b += 1\n",
    "  # print(len(bin(b))-2)\n",
    "  print(bin(b)[2:])\n",
    "  print(b)"
   ]
  }
 ],
 "metadata": {
  "interpreter": {
   "hash": "67019d737cc6ef8f85c5078e64a827db487c0d52f8a093463b149c1ec02a49c6"
  },
  "kernelspec": {
   "display_name": "Python 3.8.12 64-bit ('py38': conda)",
   "language": "python",
   "name": "python3"
  },
  "language_info": {
   "codemirror_mode": {
    "name": "ipython",
    "version": 3
   },
   "file_extension": ".py",
   "mimetype": "text/x-python",
   "name": "python",
   "nbconvert_exporter": "python",
   "pygments_lexer": "ipython3",
   "version": "3.8.12"
  },
  "orig_nbformat": 4
 },
 "nbformat": 4,
 "nbformat_minor": 2
}
