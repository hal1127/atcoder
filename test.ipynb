{
 "cells": [
  {
   "cell_type": "code",
   "execution_count": 2,
   "metadata": {},
   "outputs": [
    {
     "name": "stdout",
     "output_type": "stream",
     "text": [
      "FizzBuzz\n",
      "Fizz\n",
      "Fuzz\n",
      "Fizz\n",
      "Fizz\n",
      "Fuzz\n",
      "Fizz\n",
      "FizzBuzz\n",
      "Fizz\n",
      "Fuzz\n",
      "Fizz\n",
      "Fizz\n",
      "Fuzz\n",
      "Fizz\n",
      "FizzBuzz\n",
      "Fizz\n",
      "Fuzz\n",
      "Fizz\n",
      "Fizz\n",
      "Fuzz\n",
      "Fizz\n",
      "FizzBuzz\n",
      "Fizz\n",
      "Fuzz\n",
      "Fizz\n",
      "Fizz\n",
      "Fuzz\n",
      "Fizz\n",
      "FizzBuzz\n",
      "Fizz\n",
      "Fuzz\n",
      "Fizz\n",
      "Fizz\n",
      "Fuzz\n",
      "Fizz\n",
      "FizzBuzz\n",
      "Fizz\n",
      "Fuzz\n",
      "Fizz\n",
      "Fizz\n",
      "Fuzz\n",
      "Fizz\n",
      "FizzBuzz\n",
      "Fizz\n",
      "Fuzz\n",
      "Fizz\n",
      "Fizz\n"
     ]
    }
   ],
   "source": [
    "for i in range(100):\n",
    "  if i % 15 == 0:\n",
    "    print(\"FizzBuzz\")\n",
    "  elif i % 3 == 0:\n",
    "    print(\"Fizz\")\n",
    "  elif i % 5 == 0:\n",
    "    print(\"Buzz\")"
   ]
  }
 ],
 "metadata": {
  "interpreter": {
   "hash": "67019d737cc6ef8f85c5078e64a827db487c0d52f8a093463b149c1ec02a49c6"
  },
  "kernelspec": {
   "display_name": "Python 3.8.12 64-bit ('py38': conda)",
   "language": "python",
   "name": "python3"
  },
  "language_info": {
   "codemirror_mode": {
    "name": "ipython",
    "version": 3
   },
   "file_extension": ".py",
   "mimetype": "text/x-python",
   "name": "python",
   "nbconvert_exporter": "python",
   "pygments_lexer": "ipython3",
   "version": "3.8.12"
  },
  "orig_nbformat": 4
 },
 "nbformat": 4,
 "nbformat_minor": 2
}
